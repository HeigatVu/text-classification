{
 "cells": [
  {
   "cell_type": "code",
   "execution_count": 7,
   "id": "2912e160",
   "metadata": {},
   "outputs": [
    {
     "name": "stderr",
     "output_type": "stream",
     "text": [
      "[nltk_data] Downloading package punkt to /home/heigetvu/nltk_data...\n",
      "[nltk_data]   Package punkt is already up-to-date!\n",
      "[nltk_data] Downloading package stopwords to\n",
      "[nltk_data]     /home/heigetvu/nltk_data...\n",
      "[nltk_data]   Package stopwords is already up-to-date!\n",
      "[nltk_data] Downloading package punkt_tab to\n",
      "[nltk_data]     /home/heigetvu/nltk_data...\n",
      "[nltk_data]   Unzipping tokenizers/punkt_tab.zip.\n"
     ]
    }
   ],
   "source": [
    "import string\n",
    "import nltk\n",
    "nltk.download('punkt')\n",
    "nltk.download('stopwords')\n",
    "nltk.download('punkt_tab')\n",
    "import pandas as pd\n",
    "import numpy as np\n",
    "import matplotlib.pyplot as plt\n",
    "\n",
    "from sklearn.model_selection import train_test_split\n",
    "from sklearn.naive_bayes import GaussianNB\n",
    "from sklearn.metrics import accuracy_score\n",
    "from sklearn.preprocessing import LabelEncoder"
   ]
  },
  {
   "cell_type": "markdown",
   "id": "cd16ae46",
   "metadata": {},
   "source": [
    "LOAD DATA"
   ]
  },
  {
   "cell_type": "code",
   "execution_count": 8,
   "id": "207c1570",
   "metadata": {},
   "outputs": [],
   "source": [
    "DATASET_PATH = \"./2cls_spam_text_cls.csv\"\n",
    "df = pd.read_csv(DATASET_PATH)\n",
    "\n",
    "messages = df[\"Message\"].values.tolist()\n",
    "labels = df[\"Category\"].values.tolist()"
   ]
  },
  {
   "cell_type": "markdown",
   "id": "1bd21acc",
   "metadata": {},
   "source": [
    "PREPROCESSING"
   ]
  },
  {
   "cell_type": "code",
   "execution_count": 9,
   "id": "e2f30fa1",
   "metadata": {},
   "outputs": [],
   "source": [
    "def lowercase(text):\n",
    "    return text.lower()\n",
    "\n",
    "def punctuation_removal(text):\n",
    "    translator = str.maketrans('', '', string.punctuation)\n",
    "    return  text.translate(translator)\n",
    "\n",
    "def tokenize(text):\n",
    "    return nltk.word_tokenize(text)\n",
    "\n",
    "def stopwords_removal(tokens):\n",
    "    stop_words = nltk.corpus.stopwords.words('english')\n",
    "    return [token for token in tokens if token not in stop_words]\n",
    "\n",
    "def steming(tokens):\n",
    "    stemser = nltk.PorterStemmer()\n",
    "    return [stemser.stem(token) for token in tokens]\n",
    "\n",
    "def preprocess_text(text):\n",
    "    text = lowercase(text)\n",
    "    text = punctuation_removal(text)\n",
    "    tokens = tokenize(text)\n",
    "    tokens = stopwords_removal(tokens)\n",
    "    tokens = steming(tokens)\n",
    "    return tokens\n",
    "\n",
    "messages = [preprocess_text(message) for message in messages]"
   ]
  },
  {
   "cell_type": "markdown",
   "id": "27b36401",
   "metadata": {},
   "source": [
    "CREATING DICTIONARY"
   ]
  },
  {
   "cell_type": "code",
   "execution_count": 10,
   "id": "1c5a6f80",
   "metadata": {},
   "outputs": [],
   "source": [
    "def create_dictionary(messages):\n",
    "    dictionary = []\n",
    "    for tokens in messages:\n",
    "        for token in tokens:\n",
    "            if token not in dictionary:\n",
    "                dictionary.append(token)\n",
    "    return dictionary\n",
    "\n",
    "dictionary = create_dictionary(messages)"
   ]
  },
  {
   "cell_type": "markdown",
   "id": "b87cab02",
   "metadata": {},
   "source": [
    "CREATING FEATURES BASED ON COUNTING HOW MANY TIMES EACH WORD FROM THE VOCAB APPEARING?"
   ]
  },
  {
   "cell_type": "code",
   "execution_count": 12,
   "id": "24beb9fe",
   "metadata": {},
   "outputs": [],
   "source": [
    "def create_features(tokens, dictionary):\n",
    "    features = np.zeros(len(dictionary))\n",
    "    for token in tokens:\n",
    "        if token in dictionary:\n",
    "            features[dictionary.index(token)] += 1\n",
    "\n",
    "    return features\n",
    "\n",
    "X = np.array([create_features(tokens, dictionary) for tokens in messages])"
   ]
  },
  {
   "cell_type": "code",
   "execution_count": 20,
   "id": "fb5f0ab0",
   "metadata": {},
   "outputs": [
    {
     "data": {
      "text/plain": [
       "(5572, 8166)"
      ]
     },
     "execution_count": 20,
     "metadata": {},
     "output_type": "execute_result"
    }
   ],
   "source": [
    "X.shape"
   ]
  },
  {
   "cell_type": "code",
   "execution_count": 13,
   "id": "b8b6174c",
   "metadata": {},
   "outputs": [
    {
     "name": "stdout",
     "output_type": "stream",
     "text": [
      "Classes: ['ham' 'spam']\n",
      "Encoded labels: [0 0 1 ... 0 0 0]\n"
     ]
    }
   ],
   "source": [
    "le = LabelEncoder()\n",
    "y = le.fit_transform(labels)\n",
    "print(f\"Classes: {le.classes_}\")\n",
    "print(f\"Encoded labels: {y}\")"
   ]
  },
  {
   "cell_type": "markdown",
   "id": "0cc72111",
   "metadata": {},
   "source": [
    "SPLIT VAL TEST"
   ]
  },
  {
   "cell_type": "code",
   "execution_count": 14,
   "id": "4f662a7e",
   "metadata": {},
   "outputs": [],
   "source": [
    "VAL_SIZE = 0.2\n",
    "TEST_SIZE = 0.125\n",
    "SEED = 0\n",
    "\n",
    "X_train, X_val, y_train, y_val = train_test_split(X, y, test_size=VAL_SIZE, shuffle=True, random_state=SEED)\n",
    "X_train, X_test, y_train, y_test = train_test_split(X_train, y_train, test_size=TEST_SIZE, shuffle=True, random_state=SEED)"
   ]
  },
  {
   "cell_type": "markdown",
   "id": "d7ebf932",
   "metadata": {},
   "source": [
    "MODEL"
   ]
  },
  {
   "cell_type": "code",
   "execution_count": 15,
   "id": "b5357dde",
   "metadata": {},
   "outputs": [
    {
     "name": "stdout",
     "output_type": "stream",
     "text": [
      "Starting training...\n",
      "Training complted\n"
     ]
    }
   ],
   "source": [
    "model = GaussianNB()\n",
    "print(\"Starting training...\")\n",
    "model = model.fit(X_train, y_train)\n",
    "print(\"Training complted\")\n",
    "\n"
   ]
  },
  {
   "cell_type": "code",
   "execution_count": 16,
   "id": "8914eb97",
   "metadata": {},
   "outputs": [
    {
     "name": "stdout",
     "output_type": "stream",
     "text": [
      "Accuracy on test set: 0.8602150537634409\n",
      "Accuracy on validation set: 0.8816143497757848\n",
      "Accuracy on test set: 0.8602150537634409\n",
      "Accuracy on validation set: 0.8816143497757848\n"
     ]
    }
   ],
   "source": [
    "y_test_pred = model.predict(X_test)\n",
    "y_val_pred = model.predict(X_val)\n",
    "\n",
    "val_accuracy = accuracy_score(y_val, y_val_pred)\n",
    "test_accuracy = accuracy_score(y_test, y_test_pred)\n",
    "\n",
    "print(f\"Accuracy on test set: {test_accuracy}\")\n",
    "print(f\"Accuracy on validation set: {val_accuracy}\")\n",
    "\n",
    "print(f\"Accuracy on test set: {accuracy_score(y_test, y_test_pred)}\")\n",
    "print(f\"Accuracy on validation set: {accuracy_score(y_val, y_val_pred)}\")"
   ]
  },
  {
   "cell_type": "code",
   "execution_count": null,
   "id": "0d26dc3d",
   "metadata": {},
   "outputs": [
    {
     "name": "stdout",
     "output_type": "stream",
     "text": [
      "ham\n"
     ]
    }
   ],
   "source": [
    "def prediction(text, model, dictionary):\n",
    "    processed_text = preprocess_text(text)\n",
    "    features = create_features(processed_text, dictionary)\n",
    "    features = np.array(features).reshape(1, -1) # reshape to 2D array with shape (n_samples, n_features)\n",
    "    prediction = model.predict(features)\n",
    "    prediction_cls = le.inverse_transform(prediction)\n",
    "    return prediction_cls[0]\n",
    "\n",
    "print(prediction(\"I am actually thinking a way of doing something useful\", model, dictionary))"
   ]
  }
 ],
 "metadata": {
  "kernelspec": {
   "display_name": "aio-hw2024",
   "language": "python",
   "name": "python3"
  },
  "language_info": {
   "codemirror_mode": {
    "name": "ipython",
    "version": 3
   },
   "file_extension": ".py",
   "mimetype": "text/x-python",
   "name": "python",
   "nbconvert_exporter": "python",
   "pygments_lexer": "ipython3",
   "version": "3.10.17"
  }
 },
 "nbformat": 4,
 "nbformat_minor": 5
}
